{
 "cells": [
  {
   "cell_type": "markdown",
   "metadata": {},
   "source": [
    "# Data Science HW# 2 \n",
    "#### Student: Kit Ha"
   ]
  },
  {
   "cell_type": "markdown",
   "metadata": {},
   "source": [
    "#### Import required packages and libraries"
   ]
  },
  {
   "cell_type": "code",
   "execution_count": 124,
   "metadata": {},
   "outputs": [],
   "source": [
    "import numpy as np\n",
    "import pandas as pd\n",
    "\n",
    "from sklearn.neighbors import KNeighborsClassifier\n",
    "from sklearn.model_selection import train_test_split"
   ]
  },
  {
   "cell_type": "markdown",
   "metadata": {},
   "source": [
    "## Part A: \n",
    "Read the iris dataset from the following URL: https://raw.githubusercontent.com/mpourhoma/CS4661/master/iris.csv\n",
    "and assign it to a Pandas DataFrame as you learned in tutorial Lab2-3."
   ]
  },
  {
   "cell_type": "markdown",
   "metadata": {},
   "source": [
    "#### Reads the data and assigns it to a Pandas DataFrame"
   ]
  },
  {
   "cell_type": "code",
   "execution_count": 125,
   "metadata": {},
   "outputs": [],
   "source": [
    "iris_df = pd.read_csv('https://raw.githubusercontent.com/mpourhoma/CS4661/master/iris.csv')"
   ]
  },
  {
   "cell_type": "markdown",
   "metadata": {},
   "source": [
    "## Part B:\n",
    "Split the dataset into testing and training sets with the following parameters:\n",
    "test_size=0.4, random_state=10"
   ]
  },
  {
   "cell_type": "markdown",
   "metadata": {},
   "source": [
    "#### Set up feature matrix and result vector"
   ]
  },
  {
   "cell_type": "code",
   "execution_count": 128,
   "metadata": {},
   "outputs": [],
   "source": [
    "feature_cols = ['sepal_length','sepal_width','petal_length','petal_width']\n",
    "\n",
    "#def categorical_to_numeric(x):\n",
    "#    if x == 'setosa':\n",
    "#        return 0\n",
    "#    elif x == 'versicolor':\n",
    "#        return 1\n",
    "#    elif x == 'virginica':\n",
    "#        return 2\n",
    "\n",
    "#iris_df['label'] = iris_df['species'].apply(categorical_to_numeric)\n",
    "\n",
    "X = iris_df[feature_cols]\n",
    "y = iris_df['species']"
   ]
  },
  {
   "cell_type": "markdown",
   "metadata": {},
   "source": [
    "#### Split the data in training data, test data, training results, and test results"
   ]
  },
  {
   "cell_type": "code",
   "execution_count": 130,
   "metadata": {},
   "outputs": [],
   "source": [
    "X_train, X_test, y_train, y_test = train_test_split(X, y, test_size=0.4, random_state=10)"
   ]
  },
  {
   "cell_type": "markdown",
   "metadata": {},
   "source": [
    "## Part C\n",
    "Instantiate a KNN object with K=3, train it on the training set and test it on the testing set.\n",
    "Then, calculate the accuracy of your prediction as you learned in Lab3."
   ]
  },
  {
   "cell_type": "markdown",
   "metadata": {},
   "source": [
    "#### Set the k value of KNN and instantiate a KNN object"
   ]
  },
  {
   "cell_type": "code",
   "execution_count": 111,
   "metadata": {},
   "outputs": [],
   "source": [
    "k = 3\n",
    "knn = KNeighborsClassifier(n_neighbors=k)\n",
    "\n",
    "# y[::10]"
   ]
  },
  {
   "cell_type": "markdown",
   "metadata": {},
   "source": [
    "#### Train the KNN object with the training set made earlier"
   ]
  },
  {
   "cell_type": "code",
   "execution_count": 131,
   "metadata": {},
   "outputs": [
    {
     "data": {
      "text/plain": [
       "KNeighborsClassifier(algorithm='auto', leaf_size=30, metric='minkowski',\n",
       "                     metric_params=None, n_jobs=None, n_neighbors=59, p=2,\n",
       "                     weights='uniform')"
      ]
     },
     "execution_count": 131,
     "metadata": {},
     "output_type": "execute_result"
    }
   ],
   "source": [
    "knn.fit(X_train, y_train)"
   ]
  },
  {
   "cell_type": "markdown",
   "metadata": {},
   "source": [
    "#### Predict results using the trained KNN on the test data set created earlier"
   ]
  },
  {
   "cell_type": "code",
   "execution_count": 114,
   "metadata": {},
   "outputs": [],
   "source": [
    "y_predict = knn.predict(X_test)\n",
    "\n",
    "# print(y_predict)"
   ]
  },
  {
   "cell_type": "markdown",
   "metadata": {},
   "source": [
    "#### Calculate the accuracy of the known results of the test set to the predicted result from your trained KNN object"
   ]
  },
  {
   "cell_type": "code",
   "execution_count": 115,
   "metadata": {},
   "outputs": [
    {
     "name": "stdout",
     "output_type": "stream",
     "text": [
      "0.9333333333333333\n"
     ]
    }
   ],
   "source": [
    "from sklearn.metrics import accuracy_score\n",
    "\n",
    "accuracy = accuracy_score(y_test, y_predict)\n",
    "\n",
    "print(accuracy)"
   ]
  },
  {
   "cell_type": "markdown",
   "metadata": {},
   "source": [
    "#### EXTRA. View the results side by side"
   ]
  },
  {
   "cell_type": "code",
   "execution_count": 116,
   "metadata": {},
   "outputs": [],
   "source": [
    "results = pd.DataFrame()\n",
    "\n",
    "results['actual'] = y_test \n",
    "results['prediction'] = y_predict \n",
    "\n",
    "# print(results)"
   ]
  },
  {
   "cell_type": "markdown",
   "metadata": {},
   "source": [
    "## Part D\n",
    "Repeat part (c) for K=1, K=5, K=7, K=15, K=27, K=59 (you can simply use a “for loop,” and\n",
    "save the final accuracy results in a list). Does the accuracy always get better by increasing\n",
    "the value K? "
   ]
  },
  {
   "cell_type": "markdown",
   "metadata": {},
   "source": [
    "#### Create list of k values to iterate through and a dataframe to store the results"
   ]
  },
  {
   "cell_type": "code",
   "execution_count": 137,
   "metadata": {},
   "outputs": [],
   "source": [
    "k_values = [1,5,7,15,27,59]\n",
    "index_values = [str(k) for k in k_values]\n",
    "accuracy_results = pd.DataFrame({'k': index_values})\n",
    "\n",
    "# accuracy_results"
   ]
  },
  {
   "cell_type": "markdown",
   "metadata": {},
   "source": [
    "#### Fill the DataFrame with the accuracies for each k value"
   ]
  },
  {
   "cell_type": "code",
   "execution_count": 136,
   "metadata": {},
   "outputs": [
    {
     "data": {
      "text/html": [
       "<div>\n",
       "<style scoped>\n",
       "    .dataframe tbody tr th:only-of-type {\n",
       "        vertical-align: middle;\n",
       "    }\n",
       "\n",
       "    .dataframe tbody tr th {\n",
       "        vertical-align: top;\n",
       "    }\n",
       "\n",
       "    .dataframe thead th {\n",
       "        text-align: right;\n",
       "    }\n",
       "</style>\n",
       "<table border=\"1\" class=\"dataframe\">\n",
       "  <thead>\n",
       "    <tr style=\"text-align: right;\">\n",
       "      <th></th>\n",
       "      <th>k</th>\n",
       "      <th>accuracy</th>\n",
       "    </tr>\n",
       "  </thead>\n",
       "  <tbody>\n",
       "    <tr>\n",
       "      <th>0</th>\n",
       "      <td>1</td>\n",
       "      <td>0.916667</td>\n",
       "    </tr>\n",
       "    <tr>\n",
       "      <th>1</th>\n",
       "      <td>5</td>\n",
       "      <td>0.950000</td>\n",
       "    </tr>\n",
       "    <tr>\n",
       "      <th>2</th>\n",
       "      <td>7</td>\n",
       "      <td>0.966667</td>\n",
       "    </tr>\n",
       "    <tr>\n",
       "      <th>3</th>\n",
       "      <td>15</td>\n",
       "      <td>0.950000</td>\n",
       "    </tr>\n",
       "    <tr>\n",
       "      <th>4</th>\n",
       "      <td>27</td>\n",
       "      <td>0.950000</td>\n",
       "    </tr>\n",
       "    <tr>\n",
       "      <th>5</th>\n",
       "      <td>59</td>\n",
       "      <td>0.666667</td>\n",
       "    </tr>\n",
       "  </tbody>\n",
       "</table>\n",
       "</div>"
      ],
      "text/plain": [
       "    k  accuracy\n",
       "0   1  0.916667\n",
       "1   5  0.950000\n",
       "2   7  0.966667\n",
       "3  15  0.950000\n",
       "4  27  0.950000\n",
       "5  59  0.666667"
      ]
     },
     "execution_count": 136,
     "metadata": {},
     "output_type": "execute_result"
    }
   ],
   "source": [
    "accuracy_list = []\n",
    "for k in k_values:\n",
    "    knn = KNeighborsClassifier(n_neighbors=k)\n",
    "    knn.fit(X_train, y_train)\n",
    "    \n",
    "    y_predict = knn.predict(X_test)\n",
    "    accuracy = accuracy_score(y_test, y_predict)\n",
    "    \n",
    "    accuracy_list.append(accuracy)\n",
    "\n",
    "accuracy_results['accuracy'] = accuracy_list\n",
    "\n",
    "accuracy_results\n"
   ]
  },
  {
   "cell_type": "markdown",
   "metadata": {},
   "source": [
    "### Part D CONCLUSION: Increasing the value of k DOES NOT always increase the accuracy of your model. As seen in the table, going from k = 1 to k = 7 increased the accuracy, but after that, the accuracy went down."
   ]
  },
  {
   "cell_type": "markdown",
   "metadata": {},
   "source": [
    "## Part E\n",
    "Now, suppose that we would like to make prediction based on only ONE single feature.\n",
    "To find the best single feature, we have to try every feature individually. In other word,\n",
    "we have to repeat part (c) with K=11, four times (each time using only one of the 4\n",
    "features), and compute the accuracy each time. Then, check the accuracies.\n",
    "Which individual feature provide the best accuracy (the best feature)? Which one is the\n",
    "second best feature? (Note: you have to train, test, and evaluate your model 4 times,\n",
    "each time on a dataset including only one of the features, and save the final accuracy\n",
    "results in a list)"
   ]
  },
  {
   "cell_type": "markdown",
   "metadata": {},
   "source": [
    "#### Set up k and DataFrame as well as list to hold accuracy values"
   ]
  },
  {
   "cell_type": "code",
   "execution_count": 157,
   "metadata": {},
   "outputs": [],
   "source": [
    "k = 11\n",
    "single_feature_accuracy_results = pd.DataFrame()\n",
    "single_feature_accuracy_results['feature'] = feature_cols\n",
    "accuracy_list = []\n",
    "\n",
    "knn = KNeighborsClassifier(n_neighbors=k)\n"
   ]
  },
  {
   "cell_type": "markdown",
   "metadata": {},
   "source": [
    "#### Fill the values of the accuracy list and place it into the DataFrame"
   ]
  },
  {
   "cell_type": "code",
   "execution_count": 158,
   "metadata": {},
   "outputs": [
    {
     "name": "stdout",
     "output_type": "stream",
     "text": [
      "        feature  accuracy\n",
      "0  sepal_length  0.616667\n",
      "1   sepal_width  0.533333\n",
      "2  petal_length  0.933333\n",
      "3   petal_width  0.950000\n"
     ]
    }
   ],
   "source": [
    "for feature in feature_cols:\n",
    "    X = iris_df[[feature]]\n",
    "    X_train, X_test, y_train, y_test = train_test_split(X, y, test_size=0.4, random_state=10)\n",
    "\n",
    "    knn.fit(X_train, y_train)\n",
    "\n",
    "    y_predict = knn.predict(X_test)\n",
    "\n",
    "    accuracy = accuracy_score(y_test, y_predict)\n",
    "\n",
    "    accuracy_list.append(accuracy)\n",
    "\n",
    "single_feature_accuracy_results['accuracy'] = accuracy_list\n",
    "\n",
    "print(single_feature_accuracy_results) # Print the results"
   ]
  },
  {
   "cell_type": "markdown",
   "metadata": {},
   "source": [
    "#### Compare and return the best and second best feature"
   ]
  },
  {
   "cell_type": "code",
   "execution_count": 164,
   "metadata": {},
   "outputs": [
    {
     "data": {
      "text/html": [
       "<div>\n",
       "<style scoped>\n",
       "    .dataframe tbody tr th:only-of-type {\n",
       "        vertical-align: middle;\n",
       "    }\n",
       "\n",
       "    .dataframe tbody tr th {\n",
       "        vertical-align: top;\n",
       "    }\n",
       "\n",
       "    .dataframe thead th {\n",
       "        text-align: right;\n",
       "    }\n",
       "</style>\n",
       "<table border=\"1\" class=\"dataframe\">\n",
       "  <thead>\n",
       "    <tr style=\"text-align: right;\">\n",
       "      <th></th>\n",
       "      <th>feature</th>\n",
       "      <th>accuracy</th>\n",
       "    </tr>\n",
       "  </thead>\n",
       "  <tbody>\n",
       "    <tr>\n",
       "      <th>3</th>\n",
       "      <td>petal_width</td>\n",
       "      <td>0.950000</td>\n",
       "    </tr>\n",
       "    <tr>\n",
       "      <th>2</th>\n",
       "      <td>petal_length</td>\n",
       "      <td>0.933333</td>\n",
       "    </tr>\n",
       "  </tbody>\n",
       "</table>\n",
       "</div>"
      ],
      "text/plain": [
       "        feature  accuracy\n",
       "3   petal_width  0.950000\n",
       "2  petal_length  0.933333"
      ]
     },
     "execution_count": 164,
     "metadata": {},
     "output_type": "execute_result"
    }
   ],
   "source": [
    "sorted_df = single_feature_accuracy_results.sort_values(by='accuracy', ascending=False)\n",
    "sorted_df.head(2)"
   ]
  },
  {
   "cell_type": "markdown",
   "metadata": {},
   "source": [
    "### Part E CONCLUSION: The best single feature for predicting the correct species of iris is petal width with an accuracy of 95%. The second best is petal length with an accuracy of 93.3%."
   ]
  },
  {
   "cell_type": "markdown",
   "metadata": {},
   "source": [
    "## Part F\n",
    "Now, we want to repeat part (e) (with K=11), this time using two features. you have to\n",
    "train, test, and evaluate your model for 6 different cases: using (1st and 2nd features), (1st\n",
    "and 3rd features), (1st and 4th features), (2nd and 3rd features), (2nd and 4th features), (3rd\n",
    "and 4th features)!\n",
    "Which “feature pair” provides the best accuracy?"
   ]
  },
  {
   "cell_type": "markdown",
   "metadata": {},
   "source": [
    "#### Import iterative tools to easily find combinations of features"
   ]
  },
  {
   "cell_type": "code",
   "execution_count": 121,
   "metadata": {},
   "outputs": [],
   "source": [
    "# library for iterating through combinations\n",
    "from itertools import combinations"
   ]
  },
  {
   "cell_type": "markdown",
   "metadata": {},
   "source": [
    "#### Set up DataFrame to store the results and lists to hold the accuracy values"
   ]
  },
  {
   "cell_type": "code",
   "execution_count": 153,
   "metadata": {},
   "outputs": [],
   "source": [
    "k = 11\n",
    "knn = KNeighborsClassifier(n_neighbors=k)\n",
    "\n",
    "double_feature_accuracy_results = pd.DataFrame()\n",
    "combo_list = []\n",
    "accuracy_list = []"
   ]
  },
  {
   "cell_type": "markdown",
   "metadata": {},
   "source": [
    "#### Fill the values of the lists and store it into the DataFrame"
   ]
  },
  {
   "cell_type": "code",
   "execution_count": 154,
   "metadata": {},
   "outputs": [
    {
     "name": "stdout",
     "output_type": "stream",
     "text": [
      "                          combo  accuracy\n",
      "0   (sepal_length, sepal_width)  0.733333\n",
      "1  (sepal_length, petal_length)  0.916667\n",
      "2   (sepal_length, petal_width)  0.900000\n",
      "3   (sepal_width, petal_length)  0.950000\n",
      "4    (sepal_width, petal_width)  0.966667\n",
      "5   (petal_length, petal_width)  0.950000\n"
     ]
    }
   ],
   "source": [
    "for combo in combinations(feature_cols, 2):  # 2 for pairs, 3 for triplets, etc\n",
    "    combo_list.append(combo)\n",
    "    \n",
    "    X = iris_df[[*combo]]\n",
    "    X_train, X_test, y_train, y_test = train_test_split(X, y, test_size=0.4, random_state=10)\n",
    "\n",
    "    knn.fit(X_train, y_train)\n",
    "\n",
    "    y_predict = knn.predict(X_test)\n",
    "\n",
    "    accuracy = accuracy_score(y_test, y_predict)\n",
    "\n",
    "    accuracy_list.append(accuracy)\n",
    "\n",
    "double_feature_accuracy_results['combo'] = combo_list\n",
    "double_feature_accuracy_results['accuracy'] = accuracy_list\n",
    "\n",
    "print(double_feature_accuracy_results) # Print the results"
   ]
  },
  {
   "cell_type": "markdown",
   "metadata": {},
   "source": [
    "#### Find the feature pair with the best accuracy"
   ]
  },
  {
   "cell_type": "code",
   "execution_count": 165,
   "metadata": {},
   "outputs": [
    {
     "data": {
      "text/html": [
       "<div>\n",
       "<style scoped>\n",
       "    .dataframe tbody tr th:only-of-type {\n",
       "        vertical-align: middle;\n",
       "    }\n",
       "\n",
       "    .dataframe tbody tr th {\n",
       "        vertical-align: top;\n",
       "    }\n",
       "\n",
       "    .dataframe thead th {\n",
       "        text-align: right;\n",
       "    }\n",
       "</style>\n",
       "<table border=\"1\" class=\"dataframe\">\n",
       "  <thead>\n",
       "    <tr style=\"text-align: right;\">\n",
       "      <th></th>\n",
       "      <th>combo</th>\n",
       "      <th>accuracy</th>\n",
       "    </tr>\n",
       "  </thead>\n",
       "  <tbody>\n",
       "    <tr>\n",
       "      <th>4</th>\n",
       "      <td>(sepal_width, petal_width)</td>\n",
       "      <td>0.966667</td>\n",
       "    </tr>\n",
       "  </tbody>\n",
       "</table>\n",
       "</div>"
      ],
      "text/plain": [
       "                        combo  accuracy\n",
       "4  (sepal_width, petal_width)  0.966667"
      ]
     },
     "execution_count": 165,
     "metadata": {},
     "output_type": "execute_result"
    }
   ],
   "source": [
    "sorted_df = double_feature_accuracy_results.sort_values(by='accuracy', ascending=False)\n",
    "sorted_df.head(1)"
   ]
  },
  {
   "cell_type": "markdown",
   "metadata": {},
   "source": [
    "### Part E CONCLUSION: The best feature pair at predicting the correct species of iris is sepal width and petal width which has an accuracy of 96.7%  "
   ]
  },
  {
   "cell_type": "markdown",
   "metadata": {},
   "source": [
    "## Part G\n",
    "BigQuestion: Does the “best feature pair” from part (f) contain of both “first best feature”\n",
    "and “second best feature” from part (e)? In other word, can we conclude that the “best\n",
    "two features” for classification are the first best feature along with the second best feature\n",
    "together?"
   ]
  },
  {
   "cell_type": "markdown",
   "metadata": {},
   "source": [
    "### Part G CONCLUSION: The best feature pair DOES NOT contain both the first and second best features from part E. The best feature pair is sepal width and petal width, whereas the 2 'best' single features are petal width and petal length. Therefore, we must conclude that taking the 2 'best' singles features WILL NOT produce the best feature pair for determing iris length."
   ]
  },
  {
   "cell_type": "markdown",
   "metadata": {},
   "source": [
    "## Part H\n",
    "Optional Question: Justify your answer for part (g)! If yes, why? If no, why not?"
   ]
  },
  {
   "cell_type": "markdown",
   "metadata": {},
   "source": [
    "### Part H CONCLUSION: The reason why the combination of petal width and petal length did not produce the best feature is because the two features provide LESS TOTAL NEW INFORMATION together even though they provide more new information by themselves. In contrast, sepal width and petal width provide MORE NEW INFORMATION together which is why it produced a result with better accuracy then petal width and petal length."
   ]
  }
 ],
 "metadata": {
  "kernelspec": {
   "display_name": "Python 3",
   "language": "python",
   "name": "python3"
  },
  "language_info": {
   "codemirror_mode": {
    "name": "ipython",
    "version": 3
   },
   "file_extension": ".py",
   "mimetype": "text/x-python",
   "name": "python",
   "nbconvert_exporter": "python",
   "pygments_lexer": "ipython3",
   "version": "3.7.3"
  }
 },
 "nbformat": 4,
 "nbformat_minor": 2
}
